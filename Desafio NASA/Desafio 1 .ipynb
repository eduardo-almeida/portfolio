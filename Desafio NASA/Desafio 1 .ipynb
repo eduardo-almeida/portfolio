{
 "cells": [
  {
   "cell_type": "code",
   "execution_count": 89,
   "metadata": {},
   "outputs": [],
   "source": [
    "# Importando as dependencias\n",
    "import requests as rq\n",
    "import json as js\n",
    "import pandas as pd\n",
    "import matplotlib.pyplot as plt\n",
    "\n",
    "%matplotlib inline"
   ]
  },
  {
   "cell_type": "code",
   "execution_count": 90,
   "metadata": {},
   "outputs": [],
   "source": [
    "# Definindo o site já pasando os parametros\n",
    "site = 'https://power.larc.nasa.gov/cgi-bin/v1/DataAccess.py?request=execute&identifier=SinglePoint&parameters=ALLSKY_SFC_SW_DWN&userCommunity=SSE&tempAverage=CLIMATOLOGY&outputList=JSON&lat=-14.8990&lon=-46.7910&user=anonymous'\n",
    "\n",
    "# Os parametros passados são:\n",
    "# - parameters=ALLSKY_SFC_SW_DWN\n",
    "# - tempAverage=CLIMATOLOGY\n",
    "# - outputList=JSON\n",
    "# - lat=-14.8990\n",
    "# - lon=-46.7910"
   ]
  },
  {
   "cell_type": "code",
   "execution_count": 91,
   "metadata": {},
   "outputs": [],
   "source": [
    "# Criando os métodos necessarios:\n",
    "def requisicao(site):\n",
    "    req = requests.get(site)\n",
    "    dic = json.loads(req.text)\n",
    "    return dic\n",
    "\n",
    "def trataJSON(dicionario):\n",
    "    dicionario = dicionario['features']\n",
    "    lista =  dicionario[0]\n",
    "    lista = lista['properties']\n",
    "    lista = lista['parameter']\n",
    "    lista = lista['ALLSKY_SFC_SW_DWN']\n",
    "    del(lista['13'])\n",
    "    return lista\n",
    "\n",
    "def corrigeMes(lista):\n",
    "    lis = []\n",
    "    for e in lista:\n",
    "        if(e=='1'):\n",
    "            data='January'\n",
    "        elif(e=='2'):\n",
    "            data='February'\n",
    "        elif(e=='3'):\n",
    "            data='March'\n",
    "        elif(e=='4'):\n",
    "            data='April'\n",
    "        elif(e=='5'):\n",
    "            data='May'\n",
    "        elif(e=='6'):\n",
    "            data='June'\n",
    "        elif(e=='7'):\n",
    "            data='July'\n",
    "        elif(e=='8'):\n",
    "            data='August'\n",
    "        elif(e=='9'):\n",
    "            data='September'\n",
    "        elif(e=='10'):\n",
    "            data='October'\n",
    "        elif(e=='11'):\n",
    "            data='November'\n",
    "        elif(e=='12'):\n",
    "            data='December'\n",
    "        lis.append(data)\n",
    "    return lis"
   ]
  },
  {
   "cell_type": "code",
   "execution_count": 92,
   "metadata": {},
   "outputs": [
    {
     "name": "stdout",
     "output_type": "stream",
     "text": [
      "{'1': 5.52, '2': 5.68, '3': 5.33, '4': 5.43, '5': 5.21, '6': 5.16, '7': 5.36, '8': 5.86, '9': 6.04, '10': 5.53, '11': 5.13, '12': 4.95}\n"
     ]
    }
   ],
   "source": [
    "# Obetendo os dados da API e comecando a trata-los.\n",
    "dicionario = requisicao(site)\n",
    "lista = trataJSON(dicionario)\n",
    "print(lista)"
   ]
  },
  {
   "cell_type": "code",
   "execution_count": 93,
   "metadata": {},
   "outputs": [],
   "source": [
    "# Como os dados vem em formato de dicionario, optei por realizar aas manupulaçoes para transforma-lo em um dataframe."
   ]
  },
  {
   "cell_type": "code",
   "execution_count": 94,
   "metadata": {},
   "outputs": [
    {
     "name": "stdout",
     "output_type": "stream",
     "text": [
      "{'date': ['January', 'February', 'March', 'April', 'May', 'June', 'July', 'August', 'September', 'October', 'November', 'December'], 'value': [5.52, 5.68, 5.33, 5.43, 5.21, 5.16, 5.36, 5.86, 6.04, 5.53, 5.13, 4.95]}\n"
     ]
    }
   ],
   "source": [
    "base = {}\n",
    "lis = corrigeMes(lista)\n",
    "for i in range(len(lis)):\n",
    "    base[lis[i]] = values[i]\n",
    "\n",
    "x = {'date':lis, 'value':values}\n",
    "print(x)"
   ]
  },
  {
   "cell_type": "code",
   "execution_count": 95,
   "metadata": {},
   "outputs": [
    {
     "name": "stdout",
     "output_type": "stream",
     "text": [
      "         date  value\n",
      "0     January   5.52\n",
      "1    February   5.68\n",
      "2       March   5.33\n",
      "3       April   5.43\n",
      "4         May   5.21\n",
      "5        June   5.16\n",
      "6        July   5.36\n",
      "7      August   5.86\n",
      "8   September   6.04\n",
      "9     October   5.53\n",
      "10   November   5.13\n",
      "11   December   4.95\n"
     ]
    }
   ],
   "source": [
    "df = pd.DataFrame(data=x)\n",
    "print(df)"
   ]
  },
  {
   "cell_type": "code",
   "execution_count": 97,
   "metadata": {},
   "outputs": [
    {
     "data": {
      "image/png": "[encoded data removed]",
      "text/plain": [
       "<Figure size 432x288 with 1 Axes>"
      ]
     },
     "metadata": {
      "needs_background": "light"
     },
     "output_type": "display_data"
    }
   ],
   "source": [
    "plt.plot(df['date'], df['value'],'go', color='blue')\n",
    "plt.plot(df['date'], df['value'],color='blue')\n",
    "\n",
    "plt.title(\"Insolation Incident - Month\")\n",
    "\n",
    "plt.grid(True)\n",
    "plt.xlabel(\"Month\")\n",
    "plt.ylabel(\"KVW-hr/,^2/day\")\n",
    "plt.show()"
   ]
  },
  {
   "cell_type": "code",
   "execution_count": null,
   "metadata": {},
   "outputs": [],
   "source": []
  }
 ],
 "metadata": {
  "kernelspec": {
   "display_name": "Python 3",
   "language": "python",
   "name": "python3"
  },
  "language_info": {
   "codemirror_mode": {
    "name": "ipython",
    "version": 3
   },
   "file_extension": ".py",
   "mimetype": "text/x-python",
   "name": "python",
   "nbconvert_exporter": "python",
   "pygments_lexer": "ipython3",
   "version": "3.7.1"
  }
 },
 "nbformat": 4,
 "nbformat_minor": 2
}
